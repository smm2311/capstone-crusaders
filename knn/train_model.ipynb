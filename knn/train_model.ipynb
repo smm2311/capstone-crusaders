{
 "cells": [
  {
   "cell_type": "code",
   "execution_count": 1,
   "metadata": {},
   "outputs": [
    {
     "data": {
      "text/plain": [
       "'\\nProduct Attribute Importance\\n\\n1. productName\\n2. productName\\n3. size\\n5. color\\n'"
      ]
     },
     "execution_count": 1,
     "metadata": {},
     "output_type": "execute_result"
    }
   ],
   "source": [
    "'''\n",
    "Product Attribute Importance\n",
    "\n",
    "1. category\n",
    "2. productName\n",
    "3. size\n",
    "\n",
    "soccer\n",
    "\n",
    "    shoes\n",
    "        S --> 1\n",
    "        M --> 2\n",
    "        L --> 3\n",
    "        \n",
    "    ball\n",
    "        S --> 4\n",
    "        M --> 5\n",
    "        L --> 6\n",
    "'''"
   ]
  },
  {
   "cell_type": "code",
   "execution_count": 2,
   "metadata": {},
   "outputs": [],
   "source": [
    "import random\n",
    "import pandas as pd\n",
    "from sklearn.model_selection import train_test_split\n",
    "from sklearn.neighbors import KNeighborsClassifier\n",
    "from sklearn.preprocessing import OneHotEncoder\n",
    "from sklearn.compose import ColumnTransformer\n",
    "from sklearn.metrics import accuracy_score\n",
    "import pickle\n",
    "\n",
    "sports_products = {\n",
    "    'soccer': ['shoes', 'ball', 'shin guards', 'jersey', 'shorts', 'gloves', 'socks'],\n",
    "    'basketball': ['shoes', 'ball', 'jersey', 'shorts', 'socks'],\n",
    "    'tennis': ['shoes', 'ball', 'racket', 'hat'],\n",
    "    'baseball': ['shoes', 'ball', 'glove', 'hat', 'bat', 'jersey', 'pants'],\n",
    "    'football': ['shoes', 'helmet', 'gloves', 'jersey', 'pants']\n",
    "}\n",
    "\n",
    "categories = list(sports_products.keys())\n",
    "\n",
    "product_names = set()\n",
    "for sports_product_names in sports_products.values():\n",
    "    for sports_product_name in sports_product_names:\n",
    "        product_names.add(sports_product_name)\n",
    "product_names = [product_name for product_name in product_names]\n",
    "\n",
    "sizes = ['small', 'medium', 'large']\n",
    "\n",
    "attribute_options = {\n",
    "    'category': categories,\n",
    "    'productName': product_names,\n",
    "    'size': sizes,\n",
    "}\n",
    "\n",
    "preprocessor = ColumnTransformer(\n",
    "    transformers=[\n",
    "        ('onehot', OneHotEncoder(), ['category', 'productName', 'size'])\n",
    "    ],\n",
    "    remainder='passthrough'\n",
    ")"
   ]
  },
  {
   "cell_type": "code",
   "execution_count": 3,
   "metadata": {},
   "outputs": [
    {
     "name": "stdout",
     "output_type": "stream",
     "text": [
      "1.0\n",
      "0.8807692307692307\n",
      "0.9785714285714285\n",
      "0.9833333333333333\n"
     ]
    },
    {
     "name": "stderr",
     "output_type": "stream",
     "text": [
      "C:\\Users\\wasadmin\\AppData\\Roaming\\Python\\Python312\\site-packages\\sklearn\\neighbors\\_classification.py:239: DataConversionWarning: A column-vector y was passed when a 1d array was expected. Please change the shape of y to (n_samples,), for example using ravel().\n",
      "  return self._fit(X, y)\n",
      "C:\\Users\\wasadmin\\AppData\\Roaming\\Python\\Python312\\site-packages\\sklearn\\neighbors\\_classification.py:239: DataConversionWarning: A column-vector y was passed when a 1d array was expected. Please change the shape of y to (n_samples,), for example using ravel().\n",
      "  return self._fit(X, y)\n",
      "C:\\Users\\wasadmin\\AppData\\Roaming\\Python\\Python312\\site-packages\\sklearn\\neighbors\\_classification.py:239: DataConversionWarning: A column-vector y was passed when a 1d array was expected. Please change the shape of y to (n_samples,), for example using ravel().\n",
      "  return self._fit(X, y)\n",
      "C:\\Users\\wasadmin\\AppData\\Roaming\\Python\\Python312\\site-packages\\sklearn\\neighbors\\_classification.py:239: DataConversionWarning: A column-vector y was passed when a 1d array was expected. Please change the shape of y to (n_samples,), for example using ravel().\n",
      "  return self._fit(X, y)\n"
     ]
    }
   ],
   "source": [
    "for attribute in attribute_options:\n",
    "\n",
    "    training_X, training_y = [], []\n",
    "\n",
    "    for y in attribute_options[attribute]:\n",
    "\n",
    "        for _ in range(100):\n",
    "\n",
    "            training_y.append(attribute_options[attribute].index(y))\n",
    "\n",
    "            x_dict = {attribute: y}\n",
    "\n",
    "            for option in attribute_options:\n",
    "\n",
    "                if option == attribute:\n",
    "                    continue\n",
    "\n",
    "                x_dict[option] = random.choice(attribute_options[option])\n",
    "\n",
    "            training_X.append(x_dict)\n",
    "\n",
    "    df_X = pd.DataFrame.from_dict(training_X)\n",
    "    df_y = pd.DataFrame(training_y)\n",
    "\n",
    "    X_train, X_test, y_train, y_test = train_test_split(df_X, df_y, test_size=0.2, random_state=42)\n",
    "\n",
    "    X_train_encoded = preprocessor.fit_transform(X_train)\n",
    "    X_test_encoded = preprocessor.transform(X_test)\n",
    "\n",
    "    model = KNeighborsClassifier()\n",
    "    model.fit(X_train_encoded, y_train)\n",
    "\n",
    "    predictions = model.predict(X_test_encoded)\n",
    "    print(accuracy_score(y_test, predictions))\n",
    "\n",
    "    with open(f'{attribute}_model.pkl', 'wb') as f:\n",
    "        pickle.dump(model, f)"
   ]
  }
 ],
 "metadata": {
  "kernelspec": {
   "display_name": "Python 3",
   "language": "python",
   "name": "python3"
  },
  "language_info": {
   "codemirror_mode": {
    "name": "ipython",
    "version": 3
   },
   "file_extension": ".py",
   "mimetype": "text/x-python",
   "name": "python",
   "nbconvert_exporter": "python",
   "pygments_lexer": "ipython3",
   "version": "3.12.3"
  }
 },
 "nbformat": 4,
 "nbformat_minor": 2
}
