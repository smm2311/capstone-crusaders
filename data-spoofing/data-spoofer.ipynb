{
 "cells": [
  {
   "cell_type": "code",
   "execution_count": 4,
   "metadata": {},
   "outputs": [],
   "source": [
    "import random\n",
    "\n",
    "random.seed(42)\n",
    "\n",
    "sports_products = {\n",
    "    'soccer': ['shoes', 'ball', 'shin guards', 'jersey', 'shorts', 'gloves', 'socks'],\n",
    "    'basketball': ['shoes', 'ball', 'jersey', 'shorts', 'socks'],\n",
    "    'tennis': ['shoes', 'ball', 'racket', 'hat'],\n",
    "    'baseball': ['shoes', 'ball', 'glove', 'hat', 'bat', 'jersey', 'pants'],\n",
    "    'football': ['shoes', 'helmet', 'gloves', 'jersey', 'pants'],\n",
    "    \n",
    "}\n",
    "\n",
    "products = []\n",
    "for _ in range(1000):\n",
    "\n",
    "    category = random.choice(list(sports_products.keys()))\n",
    "\n",
    "    products.append({\n",
    "        'productName': random.choice(sports_products[category]),\n",
    "        'category': category,\n",
    "        'color': random.choice(['red', 'orange', 'yellow', 'green', 'blue', 'indigo', 'violet']),\n",
    "        'size': random.choice(['small', 'medium', 'large']),\n",
    "        'price': random.randint(1, 100)\n",
    "    })\n",
    "\n",
    "customers = []\n",
    "for _ in range(10):\n",
    "    customers.append({\n",
    "        'billingFirst': str(random.randint(1, 10)),\n",
    "        'billingLast': str(random.randint(1, 10)),\n",
    "        'billingAddress': str(random.randint(1, 10)),\n",
    "        'billingCity': str(random.randint(1, 10)),\n",
    "        'billingState': str(random.randint(1, 10)),\n",
    "        'billingZip': str(random.randint(1, 10)),\n",
    "        'shippingFirst': str(random.randint(1, 10)),\n",
    "        'shippingLast': str(random.randint(1, 10)),\n",
    "        'shippingAddress': str(random.randint(1, 10)),\n",
    "        'shippingCity': str(random.randint(1, 10)),\n",
    "        'shippingState': str(random.randint(1, 10)),\n",
    "        'shippingZip': str(random.randint(1, 10)),\n",
    "        'sameAsBilling': False,\n",
    "        'cardNumber': str(random.randint(1, 10)),\n",
    "        'cardName': str(random.randint(1, 10)),\n",
    "        'cardExp': str(random.randint(1, 10)),\n",
    "        'cardCvc': str(random.randint(1, 10))\n",
    "    })\n",
    "\n"
   ]
  },
  {
   "cell_type": "code",
   "execution_count": 5,
   "metadata": {},
   "outputs": [],
   "source": [
    "import json\n",
    "\n",
    "with open('spoofed_products.json', 'w') as f:\n",
    "    json.dump(products, f, indent=4)\n",
    "\n",
    "with open('spoofed_customers.json', 'w') as f:\n",
    "    json.dump(customers, f, indent=4)"
   ]
  },
  {
   "cell_type": "code",
   "execution_count": 6,
   "metadata": {},
   "outputs": [
    {
     "name": "stderr",
     "output_type": "stream",
     "text": [
      "2025-07-10T15:52:32.552-0400\tconnected to: mongodb://localhost:27017/capstone-crusaders\n",
      "2025-07-10T15:52:32.553-0400\tdropping: capstone-crusaders.products\n",
      "2025-07-10T15:52:32.613-0400\t1000 document(s) imported successfully. 0 document(s) failed to import.\n",
      "2025-07-10T15:52:33.273-0400\tconnected to: mongodb://localhost:27017/capstone-crusaders\n",
      "2025-07-10T15:52:33.274-0400\tdropping: capstone-crusaders.customers\n",
      "2025-07-10T15:52:33.300-0400\t10 document(s) imported successfully. 0 document(s) failed to import.\n"
     ]
    }
   ],
   "source": [
    "! mongoimport --uri mongodb://localhost:27017/capstone-crusaders --collection products --file spoofed_products.json --jsonArray --drop\n",
    "! mongoimport --uri mongodb://localhost:27017/capstone-crusaders --collection customers --file spoofed_customers.json --jsonArray --drop"
   ]
  }
 ],
 "metadata": {
  "kernelspec": {
   "display_name": "Python 3",
   "language": "python",
   "name": "python3"
  },
  "language_info": {
   "codemirror_mode": {
    "name": "ipython",
    "version": 3
   },
   "file_extension": ".py",
   "mimetype": "text/x-python",
   "name": "python",
   "nbconvert_exporter": "python",
   "pygments_lexer": "ipython3",
   "version": "3.12.3"
  }
 },
 "nbformat": 4,
 "nbformat_minor": 2
}
