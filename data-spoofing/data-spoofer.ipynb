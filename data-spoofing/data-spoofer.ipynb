{
 "cells": [
  {
   "cell_type": "code",
   "execution_count": 4,
   "metadata": {},
   "outputs": [],
   "source": [
    "import random\n",
    "\n",
    "random.seed(42)\n",
    "\n",
    "sports_products = {\n",
    "    'soccer': ['shoes', 'ball', 'shin guards', 'jersey', 'shorts', 'gloves', 'socks'],\n",
    "    'basketball': ['shoes', 'ball', 'jersey', 'shorts', 'socks'],\n",
    "    'tennis': ['shoes', 'ball', 'racket', 'hat'],\n",
    "    'baseball': ['shoes', 'ball', 'glove', 'hat', 'bat', 'jersey', 'pants'],\n",
    "    'football': ['shoes', 'helmet', 'gloves', 'jersey', 'pants']\n",
    "}\n",
    "\n",
    "data = []\n",
    "for i in range(1000):\n",
    "\n",
    "    category = random.choice(list(sports_products.keys()))\n",
    "\n",
    "    data.append({\n",
    "        'productId': i,\n",
    "        'productName': random.choice(sports_products[category]),\n",
    "        'category': category,\n",
    "        'color': random.choice(['red', 'orange', 'yellow', 'green', 'blue', 'indigo', 'violet']),\n",
    "        'size': random.choice(['small', 'medium', 'large']),\n",
    "        'price': random.randint(1, 100)\n",
    "    })\n",
    "\n",
    "sports_specific_data = {}\n",
    "\n",
    "for product in data:\n",
    "\n",
    "    if product['category'] not in sports_specific_data:\n",
    "        sports_specific_data[product['category']] = []\n",
    "\n",
    "    sports_specific_data[product['category']].append(product)"
   ]
  },
  {
   "cell_type": "code",
   "execution_count": 5,
   "metadata": {},
   "outputs": [],
   "source": [
    "import json\n",
    "\n",
    "with open('spoofed_data.json', 'w') as f:\n",
    "    json.dump(data, f, indent=4)\n",
    "\n",
    "for sport in sports_specific_data:\n",
    "\n",
    "    with open(f'{sport}_spoofed_data.json', 'w') as f:\n",
    "        json.dump(sports_specific_data[sport], f, indent=4)"
   ]
  },
  {
   "cell_type": "code",
   "execution_count": 6,
   "metadata": {},
   "outputs": [
    {
     "name": "stderr",
     "output_type": "stream",
     "text": [
      "2025-07-10T08:35:06.568-0400\tconnected to: mongodb://localhost:27017/capstone-crusaders\n",
      "2025-07-10T08:35:06.571-0400\tdropping: capstone-crusaders.sports\n",
      "2025-07-10T08:35:06.625-0400\t1000 document(s) imported successfully. 0 document(s) failed to import.\n",
      "2025-07-10T08:35:07.308-0400\tconnected to: mongodb://localhost:27017/capstone-crusaders\n",
      "2025-07-10T08:35:07.309-0400\tdropping: capstone-crusaders.soccer\n",
      "2025-07-10T08:35:07.345-0400\t186 document(s) imported successfully. 0 document(s) failed to import.\n",
      "2025-07-10T08:35:08.017-0400\tconnected to: mongodb://localhost:27017/capstone-crusaders\n",
      "2025-07-10T08:35:08.018-0400\tdropping: capstone-crusaders.basketball\n",
      "2025-07-10T08:35:08.054-0400\t207 document(s) imported successfully. 0 document(s) failed to import.\n",
      "2025-07-10T08:35:08.720-0400\tconnected to: mongodb://localhost:27017/capstone-crusaders\n",
      "2025-07-10T08:35:08.721-0400\tdropping: capstone-crusaders.tennis\n",
      "2025-07-10T08:35:08.757-0400\t205 document(s) imported successfully. 0 document(s) failed to import.\n",
      "2025-07-10T08:35:09.427-0400\tconnected to: mongodb://localhost:27017/capstone-crusaders\n",
      "2025-07-10T08:35:09.427-0400\tdropping: capstone-crusaders.baseball\n",
      "2025-07-10T08:35:09.475-0400\t193 document(s) imported successfully. 0 document(s) failed to import.\n",
      "2025-07-10T08:35:10.149-0400\tconnected to: mongodb://localhost:27017/capstone-crusaders\n",
      "2025-07-10T08:35:10.151-0400\tdropping: capstone-crusaders.football\n",
      "2025-07-10T08:35:10.183-0400\t209 document(s) imported successfully. 0 document(s) failed to import.\n"
     ]
    }
   ],
   "source": [
    "! mongoimport --uri mongodb://localhost:27017/capstone-crusaders --collection sports --file spoofed_data.json --jsonArray --drop\n",
    "! mongoimport --uri mongodb://localhost:27017/capstone-crusaders --collection soccer --file soccer_spoofed_data.json --jsonArray --drop\n",
    "! mongoimport --uri mongodb://localhost:27017/capstone-crusaders --collection basketball --file basketball_spoofed_data.json --jsonArray --drop\n",
    "! mongoimport --uri mongodb://localhost:27017/capstone-crusaders --collection tennis --file tennis_spoofed_data.json --jsonArray --drop\n",
    "! mongoimport --uri mongodb://localhost:27017/capstone-crusaders --collection baseball --file baseball_spoofed_data.json --jsonArray --drop\n",
    "! mongoimport --uri mongodb://localhost:27017/capstone-crusaders --collection football --file football_spoofed_data.json --jsonArray --drop"
   ]
  }
 ],
 "metadata": {
  "kernelspec": {
   "display_name": "Python 3",
   "language": "python",
   "name": "python3"
  },
  "language_info": {
   "codemirror_mode": {
    "name": "ipython",
    "version": 3
   },
   "file_extension": ".py",
   "mimetype": "text/x-python",
   "name": "python",
   "nbconvert_exporter": "python",
   "pygments_lexer": "ipython3",
   "version": "3.12.3"
  }
 },
 "nbformat": 4,
 "nbformat_minor": 2
}
