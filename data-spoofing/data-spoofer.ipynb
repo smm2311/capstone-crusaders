{
 "cells": [
  {
   "cell_type": "code",
   "execution_count": 3,
   "metadata": {},
   "outputs": [],
   "source": [
    "import random\n",
    "\n",
    "random.seed(42)\n",
    "\n",
    "sports_products = {\n",
    "    'soccer': ['shoes', 'ball', 'shin guards', 'jersey', 'shorts', 'gloves', 'socks'],\n",
    "    'basketball': ['shoes', 'ball', 'jersey', 'shorts', 'socks'],\n",
    "    'tennis': ['shoes', 'ball', 'racket', 'hat'],\n",
    "    'baseball': ['shoes', 'ball', 'glove', 'hat', 'bat', 'jersey', 'pants'],\n",
    "    'football': ['shoes', 'helmet', 'gloves', 'jersey', 'pants']\n",
    "}\n",
    "\n",
    "product_features = [\n",
    "    'productName',\n",
    "    'category',\n",
    "    'color',\n",
    "    'size',\n",
    "    'price'\n",
    "]\n",
    "\n",
    "data = []\n",
    "\n",
    "for _ in range(1000):\n",
    "\n",
    "    category = random.choice(list(sports_products.keys()))\n",
    "\n",
    "    data.append({\n",
    "        'productName': random.choice(sports_products[category]),\n",
    "        'category': category,\n",
    "        'color': random.choice(['red', 'orange', 'yellow', 'green', 'blue', 'indigo', 'violet']),\n",
    "        'size': random.choice(['small', 'medium', 'large']),\n",
    "        'price': random.randint(1, 100)\n",
    "    })\n",
    "\n",
    "sports_specific_data = {}\n",
    "\n",
    "for product in data:\n",
    "\n",
    "    if product['category'] not in sports_specific_data:\n",
    "        sports_specific_data[product['category']] = []\n",
    "\n",
    "    sports_specific_data[product['category']].append(product)"
   ]
  },
  {
   "cell_type": "code",
   "execution_count": 4,
   "metadata": {},
   "outputs": [],
   "source": [
    "import json\n",
    "\n",
    "with open('spoofed_data.json', 'w') as f:\n",
    "    json.dump(data, f, indent=4)\n",
    "\n",
    "for sport in sports_specific_data:\n",
    "\n",
    "    with open(f'{sport}_spoofed_data.json', 'w') as f:\n",
    "        json.dump(sports_specific_data[sport], f, indent=4)"
   ]
  },
  {
   "cell_type": "markdown",
   "metadata": {},
   "source": [
    "# MongoDB Set-Up\n",
    "\n",
    "(1) Open MongoDBCompass and connect to localhost:27017. \n",
    "\n",
    "(2) Create a new database named `capstone-crusaders` with a collections called `sports`,`soccer`, `basketball`, `tennis`, `baseball`, `football`.\n",
    "\n",
    "(3) In a terminal navigate here (`../capstone-crusaders/data-spoofing`)\n",
    "\n",
    "(4) Run the following commands: \\n\n",
    "\n",
    "`mongoimport --uri mongodb://localhost:27017/capstone-crusaders --collection sports --file spoofed_data.json --jsonArray --drop`\n",
    "\n",
    "`mongoimport --uri mongodb://localhost:27017/capstone-crusaders --collection soccer --file soccer_spoofed_data.json --jsonArray --drop`\n",
    "\n",
    "`mongoimport --uri mongodb://localhost:27017/capstone-crusaders --collection basketball --file basketball_spoofed_data.json --jsonArray --drop`\n",
    "\n",
    "`mongoimport --uri mongodb://localhost:27017/capstone-crusaders --collection tennis --file tennis_spoofed_data.json --jsonArray --drop`\n",
    "\n",
    "`mongoimport --uri mongodb://localhost:27017/capstone-crusaders --collection baseball --file baseball_spoofed_data.json --jsonArray --drop`\n",
    "\n",
    "`mongoimport --uri mongodb://localhost:27017/capstone-crusaders --collection football --file football_spoofed_data.json --jsonArray --drop`\n",
    "\n"
   ]
  }
 ],
 "metadata": {
  "kernelspec": {
   "display_name": "Python 3",
   "language": "python",
   "name": "python3"
  },
  "language_info": {
   "codemirror_mode": {
    "name": "ipython",
    "version": 3
   },
   "file_extension": ".py",
   "mimetype": "text/x-python",
   "name": "python",
   "nbconvert_exporter": "python",
   "pygments_lexer": "ipython3",
   "version": "3.12.3"
  }
 },
 "nbformat": 4,
 "nbformat_minor": 2
}
