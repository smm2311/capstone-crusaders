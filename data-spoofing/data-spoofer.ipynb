{
 "cells": [
  {
   "cell_type": "code",
   "execution_count": null,
   "metadata": {},
   "outputs": [],
   "source": [
    "import random\n",
    "\n",
    "random.seed(42)\n",
    "\n",
    "sports_products = {\n",
    "    'soccer': ['shoes', 'ball', 'shin guards', 'jersey', 'shorts', 'gloves', 'socks'],\n",
    "    'basketball': ['shoes', 'ball', 'jersey', 'shorts', 'socks'],\n",
    "    'tennis': ['shoes', 'ball', 'racket', 'hat'],\n",
    "    'baseball': ['shoes', 'ball', 'glove', 'hat', 'bat', 'jersey', 'pants'],\n",
    "    'football': ['shoes', 'helmet', 'gloves', 'jersey', 'pants'],\n",
    "    'golf': ['shoes', 'ball', 'club', 'gloves', 'hat'],\n",
    "    'running': ['shoes', 'shorts', 'shirt', 'socks', 'hat'],\n",
    "    'cycling': ['shoes', 'helmet', 'gloves', 'jersey', 'shorts', 'socks'],\n",
    "    'swimming': ['goggles', 'cap', 'swimsuit', 'flippers', 'towel'],\n",
    "    'volleyball': ['shoes', 'ball', 'knee pads', 'jersey', 'shorts'],\n",
    "    'hockey': ['skates', 'stick', 'helmet', 'pads', 'jersey', 'gloves'],\n",
    "}\n",
    "\n",
    "data = []\n",
    "for i in range(1000):\n",
    "\n",
    "    category = random.choice(list(sports_products.keys()))\n",
    "\n",
    "    data.append({\n",
    "        'productId': i,\n",
    "        'productName': random.choice(sports_products[category]),\n",
    "        'category': category,\n",
    "        'color': random.choice(['red', 'orange', 'yellow', 'green', 'blue', 'indigo', 'violet']),\n",
    "        'size': random.choice(['small', 'medium', 'large']),\n",
    "        'price': random.randint(1, 100)\n",
    "    })\n",
    "\n",
    "sports_specific_data = {}\n",
    "\n",
    "for product in data:\n",
    "\n",
    "    if product['category'] not in sports_specific_data:\n",
    "        sports_specific_data[product['category']] = []\n",
    "\n",
    "    sports_specific_data[product['category']].append(product)"
   ]
  },
  {
   "cell_type": "code",
   "execution_count": 2,
   "metadata": {},
   "outputs": [],
   "source": [
    "import json\n",
    "import os\n",
    "\n",
    "if not os.path.isdir(\"spoofed_data\"):   \n",
    "    os.mkdir(\"spoofed_data\")\n",
    "\n",
    "with open('spoofed_data\\\\sports.json', 'w') as f:\n",
    "    json.dump(data, f, indent=4)\n",
    "\n",
    "for sport in sports_specific_data:\n",
    "\n",
    "    with open(f'spoofed_data\\\\{sport}.json', 'w') as f:\n",
    "        json.dump(sports_specific_data[sport], f, indent=4)"
   ]
  },
  {
   "cell_type": "code",
   "execution_count": 3,
   "metadata": {},
   "outputs": [
    {
     "name": "stderr",
     "output_type": "stream",
     "text": [
      "2025-07-10T09:30:35.137-0400\tconnected to: mongodb://localhost:27017/capstone-crusaders\n",
      "2025-07-10T09:30:35.137-0400\tdropping: capstone-crusaders.sports\n",
      "2025-07-10T09:30:35.265-0400\t1000 document(s) imported successfully. 0 document(s) failed to import.\n",
      "2025-07-10T09:30:36.004-0400\tconnected to: mongodb://localhost:27017/capstone-crusaders\n",
      "2025-07-10T09:30:36.006-0400\tdropping: capstone-crusaders.soccer\n",
      "2025-07-10T09:30:36.047-0400\t186 document(s) imported successfully. 0 document(s) failed to import.\n",
      "2025-07-10T09:30:36.803-0400\tconnected to: mongodb://localhost:27017/capstone-crusaders\n",
      "2025-07-10T09:30:36.803-0400\tdropping: capstone-crusaders.basketball\n",
      "2025-07-10T09:30:36.892-0400\t207 document(s) imported successfully. 0 document(s) failed to import.\n",
      "2025-07-10T09:30:38.000-0400\tconnected to: mongodb://localhost:27017/capstone-crusaders\n",
      "2025-07-10T09:30:38.002-0400\tdropping: capstone-crusaders.tennis\n",
      "2025-07-10T09:30:38.059-0400\t205 document(s) imported successfully. 0 document(s) failed to import.\n",
      "2025-07-10T09:30:38.798-0400\tconnected to: mongodb://localhost:27017/capstone-crusaders\n",
      "2025-07-10T09:30:38.800-0400\tdropping: capstone-crusaders.baseball\n",
      "2025-07-10T09:30:38.850-0400\t193 document(s) imported successfully. 0 document(s) failed to import.\n",
      "2025-07-10T09:30:39.557-0400\tconnected to: mongodb://localhost:27017/capstone-crusaders\n",
      "2025-07-10T09:30:39.558-0400\tdropping: capstone-crusaders.football\n",
      "2025-07-10T09:30:39.607-0400\t209 document(s) imported successfully. 0 document(s) failed to import.\n"
     ]
    }
   ],
   "source": [
    "! mongoimport --uri mongodb://localhost:27017/capstone-crusaders --collection sports --file spoofed_data/sports.json --jsonArray --drop\n",
    "! mongoimport --uri mongodb://localhost:27017/capstone-crusaders --collection soccer --file spoofed_data/soccer.json --jsonArray --drop\n",
    "! mongoimport --uri mongodb://localhost:27017/capstone-crusaders --collection basketball --file spoofed_data/basketball.json --jsonArray --drop\n",
    "! mongoimport --uri mongodb://localhost:27017/capstone-crusaders --collection tennis --file spoofed_data/tennis.json --jsonArray --drop\n",
    "! mongoimport --uri mongodb://localhost:27017/capstone-crusaders --collection baseball --file spoofed_data/baseball.json --jsonArray --drop\n",
    "! mongoimport --uri mongodb://localhost:27017/capstone-crusaders --collection football --file spoofed_data/football.json --jsonArray --drop"
   ]
  }
 ],
 "metadata": {
  "kernelspec": {
   "display_name": "Python 3",
   "language": "python",
   "name": "python3"
  },
  "language_info": {
   "codemirror_mode": {
    "name": "ipython",
    "version": 3
   },
   "file_extension": ".py",
   "mimetype": "text/x-python",
   "name": "python",
   "nbconvert_exporter": "python",
   "pygments_lexer": "ipython3",
   "version": "3.12.3"
  }
 },
 "nbformat": 4,
 "nbformat_minor": 2
}
